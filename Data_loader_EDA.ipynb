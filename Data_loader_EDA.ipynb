{
 "cells": [
  {
   "cell_type": "code",
   "execution_count": 1,
   "id": "2daee65a",
   "metadata": {},
   "outputs": [],
   "source": [
    "import pandas as pd\n",
    "import seaborn as sns\n",
    "import os\n",
    "import matplotlib.pyplot as plt\n",
    "#!pip install datasets\n",
    "from datasets import load_dataset\n",
    "from sklearn.model_selection import train_test_split"
   ]
  },
  {
   "cell_type": "code",
   "execution_count": 2,
   "id": "214d75e9",
   "metadata": {},
   "outputs": [
    {
     "name": "stderr",
     "output_type": "stream",
     "text": [
      "Found cached dataset ade_corpus_v2 (/home/nankli/.cache/huggingface/datasets/ade_corpus_v2/Ade_corpus_v2_classification/1.0.0/940d61334dbfac6b01ac5d00286a2122608b8dc79706ee7e9206a1edb172c559)\n"
     ]
    },
    {
     "data": {
      "application/vnd.jupyter.widget-view+json": {
       "model_id": "2bc21736894f492e8c38ff6e8a7391e9",
       "version_major": 2,
       "version_minor": 0
      },
      "text/plain": [
       "  0%|          | 0/1 [00:00<?, ?it/s]"
      ]
     },
     "metadata": {},
     "output_type": "display_data"
    },
    {
     "name": "stderr",
     "output_type": "stream",
     "text": [
      "Found cached dataset ade_corpus_v2 (/home/nankli/.cache/huggingface/datasets/ade_corpus_v2/Ade_corpus_v2_drug_ade_relation/1.0.0/940d61334dbfac6b01ac5d00286a2122608b8dc79706ee7e9206a1edb172c559)\n"
     ]
    },
    {
     "data": {
      "application/vnd.jupyter.widget-view+json": {
       "model_id": "ebd4897b71cb491b806e1f0a2a0e1b1d",
       "version_major": 2,
       "version_minor": 0
      },
      "text/plain": [
       "  0%|          | 0/1 [00:00<?, ?it/s]"
      ]
     },
     "metadata": {},
     "output_type": "display_data"
    }
   ],
   "source": [
    "data1 = load_dataset('ade_corpus_v2', \"Ade_corpus_v2_classification\")\n",
    "df1 = pd.DataFrame(data1[\"train\"])\n",
    "df1.to_csv(\"ade_relation_train.csv\", index=None) \n",
    "\n",
    "\n",
    "data2 = load_dataset('ade_corpus_v2', \"Ade_corpus_v2_drug_ade_relation\")\n",
    "df2 = pd.DataFrame(data2[\"train\"])\n",
    "df2 = df2.drop(columns=[\"indexes\"])\n",
    "df2.to_csv(\"ade_drug_ade.csv\", index=None)"
   ]
  },
  {
   "cell_type": "markdown",
   "id": "ac8c5937",
   "metadata": {},
   "source": [
    "### EDA for \"Ade_corpus_v2_classification\""
   ]
  },
  {
   "cell_type": "code",
   "execution_count": 3,
   "id": "2f8dd6b5",
   "metadata": {},
   "outputs": [
    {
     "name": "stdout",
     "output_type": "stream",
     "text": [
      "                                                text  label\n",
      "0      Intravenous azithromycin-induced ototoxicity.      1\n",
      "1  Immobilization, while Paget's bone disease was...      1\n",
      "2  Unaccountable severe hypercalcemia in a patien...      1\n",
      "3  METHODS: We report two cases of pseudoporphyri...      1\n",
      "4  METHODS: We report two cases of pseudoporphyri...      1\n"
     ]
    }
   ],
   "source": [
    "# Display the first few rows\n",
    "print(df1.head())\n"
   ]
  },
  {
   "cell_type": "code",
   "execution_count": 4,
   "id": "2483bbfe",
   "metadata": {},
   "outputs": [
    {
     "name": "stdout",
     "output_type": "stream",
     "text": [
      "<class 'pandas.core.frame.DataFrame'>\n",
      "RangeIndex: 23516 entries, 0 to 23515\n",
      "Data columns (total 2 columns):\n",
      " #   Column  Non-Null Count  Dtype \n",
      "---  ------  --------------  ----- \n",
      " 0   text    23516 non-null  object\n",
      " 1   label   23516 non-null  int64 \n",
      "dtypes: int64(1), object(1)\n",
      "memory usage: 367.6+ KB\n",
      "None\n"
     ]
    }
   ],
   "source": [
    "print(df1.info())"
   ]
  },
  {
   "cell_type": "code",
   "execution_count": 5,
   "id": "7d7b938f",
   "metadata": {},
   "outputs": [
    {
     "name": "stdout",
     "output_type": "stream",
     "text": [
      "              label\n",
      "count  23516.000000\n",
      "mean       0.290058\n",
      "std        0.453798\n",
      "min        0.000000\n",
      "25%        0.000000\n",
      "50%        0.000000\n",
      "75%        1.000000\n",
      "max        1.000000\n"
     ]
    }
   ],
   "source": [
    "# Display summary statistics for numeric columns\n",
    "print(df1.describe())"
   ]
  },
  {
   "cell_type": "code",
   "execution_count": 6,
   "id": "47920fca",
   "metadata": {},
   "outputs": [
    {
     "name": "stdout",
     "output_type": "stream",
     "text": [
      "text     0\n",
      "label    0\n",
      "dtype: int64\n"
     ]
    }
   ],
   "source": [
    "# Display the number of missing values for each column\n",
    "print(df1.isna().sum())"
   ]
  },
  {
   "cell_type": "code",
   "execution_count": 7,
   "id": "549c98fa",
   "metadata": {},
   "outputs": [
    {
     "data": {
      "text/plain": [
       "0    16695\n",
       "1     6821\n",
       "Name: label, dtype: int64"
      ]
     },
     "execution_count": 7,
     "metadata": {},
     "output_type": "execute_result"
    }
   ],
   "source": [
    "df1.label.value_counts()"
   ]
  },
  {
   "cell_type": "code",
   "execution_count": 8,
   "id": "4b4e311c",
   "metadata": {},
   "outputs": [
    {
     "data": {
      "image/png": "[encoded data removed]",
      "text/plain": [
       "<Figure size 432x288 with 1 Axes>"
      ]
     },
     "metadata": {
      "needs_background": "light"
     },
     "output_type": "display_data"
    }
   ],
   "source": [
    "# Display a count plot of the label column\n",
    "sns.countplot(x=\"label\", data=df1)\n",
    "plt.title(\"Label distribution\")\n",
    "plt.show()"
   ]
  },
  {
   "cell_type": "code",
   "execution_count": 9,
   "id": "7db21c5e",
   "metadata": {},
   "outputs": [
    {
     "data": {
      "image/png": "[encoded data removed]",
      "text/plain": [
       "<Figure size 432x288 with 1 Axes>"
      ]
     },
     "metadata": {
      "needs_background": "light"
     },
     "output_type": "display_data"
    }
   ],
   "source": [
    "# Display a histogram of the text column lengths\n",
    "sns.histplot(df1[\"text\"].apply(len))\n",
    "plt.title(\"Text length distribution\")\n",
    "plt.show()"
   ]
  },
  {
   "cell_type": "code",
   "execution_count": 10,
   "id": "a11cc23a",
   "metadata": {},
   "outputs": [],
   "source": [
    "# Check for duplicates\n",
    "duplicates = df1.duplicated()"
   ]
  },
  {
   "cell_type": "code",
   "execution_count": 11,
   "id": "d68f648b",
   "metadata": {},
   "outputs": [],
   "source": [
    "# Remove duplicates\n",
    "df1 = df1.drop_duplicates()"
   ]
  },
  {
   "cell_type": "code",
   "execution_count": 12,
   "id": "51ecec10",
   "metadata": {},
   "outputs": [
    {
     "data": {
      "text/html": [
       "<div>\n",
       "<style scoped>\n",
       "    .dataframe tbody tr th:only-of-type {\n",
       "        vertical-align: middle;\n",
       "    }\n",
       "\n",
       "    .dataframe tbody tr th {\n",
       "        vertical-align: top;\n",
       "    }\n",
       "\n",
       "    .dataframe thead th {\n",
       "        text-align: right;\n",
       "    }\n",
       "</style>\n",
       "<table border=\"1\" class=\"dataframe\">\n",
       "  <thead>\n",
       "    <tr style=\"text-align: right;\">\n",
       "      <th></th>\n",
       "      <th>text</th>\n",
       "      <th>label</th>\n",
       "    </tr>\n",
       "  </thead>\n",
       "  <tbody>\n",
       "    <tr>\n",
       "      <th>0</th>\n",
       "      <td>Intravenous azithromycin-induced ototoxicity.</td>\n",
       "      <td>1</td>\n",
       "    </tr>\n",
       "    <tr>\n",
       "      <th>1</th>\n",
       "      <td>Immobilization, while Paget's bone disease was...</td>\n",
       "      <td>1</td>\n",
       "    </tr>\n",
       "    <tr>\n",
       "      <th>2</th>\n",
       "      <td>Unaccountable severe hypercalcemia in a patien...</td>\n",
       "      <td>1</td>\n",
       "    </tr>\n",
       "    <tr>\n",
       "      <th>3</th>\n",
       "      <td>METHODS: We report two cases of pseudoporphyri...</td>\n",
       "      <td>1</td>\n",
       "    </tr>\n",
       "    <tr>\n",
       "      <th>5</th>\n",
       "      <td>Naproxen, the most common offender, has been a...</td>\n",
       "      <td>1</td>\n",
       "    </tr>\n",
       "    <tr>\n",
       "      <th>...</th>\n",
       "      <td>...</td>\n",
       "      <td>...</td>\n",
       "    </tr>\n",
       "    <tr>\n",
       "      <th>23511</th>\n",
       "      <td>At autopsy, the liver was found to be small, s...</td>\n",
       "      <td>0</td>\n",
       "    </tr>\n",
       "    <tr>\n",
       "      <th>23512</th>\n",
       "      <td>Physical exam revealed a patient with aphasia,...</td>\n",
       "      <td>0</td>\n",
       "    </tr>\n",
       "    <tr>\n",
       "      <th>23513</th>\n",
       "      <td>At the time when the leukemia appeared seven o...</td>\n",
       "      <td>0</td>\n",
       "    </tr>\n",
       "    <tr>\n",
       "      <th>23514</th>\n",
       "      <td>The American Society for Regional Anesthesia a...</td>\n",
       "      <td>0</td>\n",
       "    </tr>\n",
       "    <tr>\n",
       "      <th>23515</th>\n",
       "      <td>Concomitant administration of estradiol result...</td>\n",
       "      <td>0</td>\n",
       "    </tr>\n",
       "  </tbody>\n",
       "</table>\n",
       "<p>20896 rows × 2 columns</p>\n",
       "</div>"
      ],
      "text/plain": [
       "                                                    text  label\n",
       "0          Intravenous azithromycin-induced ototoxicity.      1\n",
       "1      Immobilization, while Paget's bone disease was...      1\n",
       "2      Unaccountable severe hypercalcemia in a patien...      1\n",
       "3      METHODS: We report two cases of pseudoporphyri...      1\n",
       "5      Naproxen, the most common offender, has been a...      1\n",
       "...                                                  ...    ...\n",
       "23511  At autopsy, the liver was found to be small, s...      0\n",
       "23512  Physical exam revealed a patient with aphasia,...      0\n",
       "23513  At the time when the leukemia appeared seven o...      0\n",
       "23514  The American Society for Regional Anesthesia a...      0\n",
       "23515  Concomitant administration of estradiol result...      0\n",
       "\n",
       "[20896 rows x 2 columns]"
      ]
     },
     "execution_count": 12,
     "metadata": {},
     "output_type": "execute_result"
    }
   ],
   "source": [
    "df1"
   ]
  },
  {
   "cell_type": "markdown",
   "id": "aae27fc9",
   "metadata": {},
   "source": [
    "### EDA for \"Ade_corpus_v2_drug_ade_relation\""
   ]
  },
  {
   "cell_type": "code",
   "execution_count": 13,
   "id": "f5fe9df2",
   "metadata": {},
   "outputs": [
    {
     "name": "stdout",
     "output_type": "stream",
     "text": [
      "                                                text                drug  \\\n",
      "0      Intravenous azithromycin-induced ototoxicity.        azithromycin   \n",
      "1  Immobilization, while Paget's bone disease was...  dihydrotachysterol   \n",
      "2  Unaccountable severe hypercalcemia in a patien...  dihydrotachysterol   \n",
      "3  METHODS: We report two cases of pseudoporphyri...            naproxen   \n",
      "4  METHODS: We report two cases of pseudoporphyri...           oxaprozin   \n",
      "\n",
      "                      effect  \n",
      "0                ototoxicity  \n",
      "1  increased calcium-release  \n",
      "2              hypercalcemia  \n",
      "3            pseudoporphyria  \n",
      "4            pseudoporphyria  \n"
     ]
    }
   ],
   "source": [
    "# Display the first few rows\n",
    "print(df2.head())"
   ]
  },
  {
   "cell_type": "code",
   "execution_count": 14,
   "id": "ee8d84f3",
   "metadata": {},
   "outputs": [
    {
     "name": "stdout",
     "output_type": "stream",
     "text": [
      "<class 'pandas.core.frame.DataFrame'>\n",
      "RangeIndex: 6821 entries, 0 to 6820\n",
      "Data columns (total 3 columns):\n",
      " #   Column  Non-Null Count  Dtype \n",
      "---  ------  --------------  ----- \n",
      " 0   text    6821 non-null   object\n",
      " 1   drug    6821 non-null   object\n",
      " 2   effect  6821 non-null   object\n",
      "dtypes: object(3)\n",
      "memory usage: 160.0+ KB\n",
      "None\n"
     ]
    }
   ],
   "source": [
    "print(df2.info())"
   ]
  },
  {
   "cell_type": "code",
   "execution_count": 15,
   "id": "4c9aab78",
   "metadata": {},
   "outputs": [
    {
     "name": "stdout",
     "output_type": "stream",
     "text": [
      "text      0\n",
      "drug      0\n",
      "effect    0\n",
      "dtype: int64\n"
     ]
    }
   ],
   "source": [
    "# Display the number of missing values for each column\n",
    "print(df2.isna().sum())"
   ]
  },
  {
   "cell_type": "code",
   "execution_count": 16,
   "id": "2c9e8557",
   "metadata": {},
   "outputs": [
    {
     "name": "stdout",
     "output_type": "stream",
     "text": [
      "                                                     text          drug effect\n",
      "count                                                6821          6821   6821\n",
      "unique                                               4271          1319   3341\n",
      "top     A 27-year-old man who had a history of bronchi...  methotrexate  fever\n",
      "freq                                                   24           151     61\n"
     ]
    }
   ],
   "source": [
    "print(df2.describe())"
   ]
  },
  {
   "cell_type": "code",
   "execution_count": 17,
   "id": "b249ba70",
   "metadata": {},
   "outputs": [
    {
     "data": {
      "text/plain": [
       "methotrexate                   151\n",
       "lithium                         92\n",
       "amiodarone                      74\n",
       "carbamazepine                   69\n",
       "MTX                             65\n",
       "                              ... \n",
       "povidone                         1\n",
       "iodine                           1\n",
       "Halothane                        1\n",
       "halothane                        1\n",
       "amphotericin B deoxycholate      1\n",
       "Name: drug, Length: 1319, dtype: int64"
      ]
     },
     "execution_count": 17,
     "metadata": {},
     "output_type": "execute_result"
    }
   ],
   "source": [
    "df2.drug.value_counts()"
   ]
  },
  {
   "cell_type": "code",
   "execution_count": 18,
   "id": "4f8f7e83",
   "metadata": {},
   "outputs": [
    {
     "data": {
      "text/plain": [
       "fever                             61\n",
       "thrombocytopenia                  56\n",
       "neurotoxicity                     54\n",
       "rhabdomyolysis                    44\n",
       "seizures                          42\n",
       "                                  ..\n",
       "mammary hyperplasia                1\n",
       "skin cancers                       1\n",
       "painful hand ulcer                 1\n",
       "diffuse nail hyperpigmentation     1\n",
       "infections                         1\n",
       "Name: effect, Length: 3341, dtype: int64"
      ]
     },
     "execution_count": 18,
     "metadata": {},
     "output_type": "execute_result"
    }
   ],
   "source": [
    "df2.effect.value_counts()"
   ]
  },
  {
   "cell_type": "code",
   "execution_count": null,
   "id": "abe94b3a",
   "metadata": {},
   "outputs": [],
   "source": []
  },
  {
   "cell_type": "code",
   "execution_count": null,
   "id": "3c15b9a3",
   "metadata": {},
   "outputs": [],
   "source": []
  },
  {
   "cell_type": "code",
   "execution_count": null,
   "id": "15384d8f",
   "metadata": {},
   "outputs": [],
   "source": []
  },
  {
   "cell_type": "code",
   "execution_count": null,
   "id": "d3c68f41",
   "metadata": {},
   "outputs": [],
   "source": []
  },
  {
   "cell_type": "code",
   "execution_count": null,
   "id": "bb0da06e",
   "metadata": {},
   "outputs": [],
   "source": []
  },
  {
   "cell_type": "code",
   "execution_count": null,
   "id": "39809225",
   "metadata": {},
   "outputs": [],
   "source": []
  }
 ],
 "metadata": {
  "kernelspec": {
   "display_name": "Python 3 (ipykernel)",
   "language": "python",
   "name": "python3"
  },
  "language_info": {
   "codemirror_mode": {
    "name": "ipython",
    "version": 3
   },
   "file_extension": ".py",
   "mimetype": "text/x-python",
   "name": "python",
   "nbconvert_exporter": "python",
   "pygments_lexer": "ipython3",
   "version": "3.9.7"
  }
 },
 "nbformat": 4,
 "nbformat_minor": 5
}
