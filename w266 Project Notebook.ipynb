{
 "cells": [
  {
   "cell_type": "code",
   "execution_count": 1,
   "id": "ad8c7174",
   "metadata": {},
   "outputs": [],
   "source": [
    "import pandas as pd"
   ]
  },
  {
   "cell_type": "markdown",
   "id": "f8d13744",
   "metadata": {},
   "source": [
    "### Dugs and Adverse Effects Data"
   ]
  },
  {
   "cell_type": "code",
   "execution_count": 2,
   "id": "99fceb11",
   "metadata": {},
   "outputs": [
    {
     "data": {
      "text/html": [
       "<div>\n",
       "<style scoped>\n",
       "    .dataframe tbody tr th:only-of-type {\n",
       "        vertical-align: middle;\n",
       "    }\n",
       "\n",
       "    .dataframe tbody tr th {\n",
       "        vertical-align: top;\n",
       "    }\n",
       "\n",
       "    .dataframe thead th {\n",
       "        text-align: right;\n",
       "    }\n",
       "</style>\n",
       "<table border=\"1\" class=\"dataframe\">\n",
       "  <thead>\n",
       "    <tr style=\"text-align: right;\">\n",
       "      <th></th>\n",
       "      <th>PubMed-ID</th>\n",
       "      <th>Sentence</th>\n",
       "      <th>Adverse-Effect</th>\n",
       "      <th>Begin Effect Offset</th>\n",
       "      <th>End Effect Offset</th>\n",
       "      <th>Drug</th>\n",
       "      <th>Begin Drug Effect Offset</th>\n",
       "      <th>End Drug Effect Offset</th>\n",
       "    </tr>\n",
       "  </thead>\n",
       "  <tbody>\n",
       "    <tr>\n",
       "      <th>0</th>\n",
       "      <td>10030778</td>\n",
       "      <td>Intravenous azithromycin-induced ototoxicity.</td>\n",
       "      <td>ototoxicity</td>\n",
       "      <td>43</td>\n",
       "      <td>54</td>\n",
       "      <td>azithromycin</td>\n",
       "      <td>22</td>\n",
       "      <td>34</td>\n",
       "    </tr>\n",
       "    <tr>\n",
       "      <th>1</th>\n",
       "      <td>10048291</td>\n",
       "      <td>Immobilization, while Paget's bone disease was...</td>\n",
       "      <td>increased calcium-release</td>\n",
       "      <td>960</td>\n",
       "      <td>985</td>\n",
       "      <td>dihydrotachysterol</td>\n",
       "      <td>908</td>\n",
       "      <td>926</td>\n",
       "    </tr>\n",
       "    <tr>\n",
       "      <th>2</th>\n",
       "      <td>10048291</td>\n",
       "      <td>Unaccountable severe hypercalcemia in a patien...</td>\n",
       "      <td>hypercalcemia</td>\n",
       "      <td>31</td>\n",
       "      <td>44</td>\n",
       "      <td>dihydrotachysterol</td>\n",
       "      <td>94</td>\n",
       "      <td>112</td>\n",
       "    </tr>\n",
       "    <tr>\n",
       "      <th>3</th>\n",
       "      <td>10082597</td>\n",
       "      <td>METHODS: We report two cases of pseudoporphyri...</td>\n",
       "      <td>pseudoporphyria</td>\n",
       "      <td>620</td>\n",
       "      <td>635</td>\n",
       "      <td>naproxen</td>\n",
       "      <td>646</td>\n",
       "      <td>654</td>\n",
       "    </tr>\n",
       "    <tr>\n",
       "      <th>4</th>\n",
       "      <td>10082597</td>\n",
       "      <td>METHODS: We report two cases of pseudoporphyri...</td>\n",
       "      <td>pseudoporphyria</td>\n",
       "      <td>620</td>\n",
       "      <td>635</td>\n",
       "      <td>oxaprozin</td>\n",
       "      <td>659</td>\n",
       "      <td>668</td>\n",
       "    </tr>\n",
       "  </tbody>\n",
       "</table>\n",
       "</div>"
      ],
      "text/plain": [
       "   PubMed-ID                                           Sentence  \\\n",
       "0   10030778      Intravenous azithromycin-induced ototoxicity.   \n",
       "1   10048291  Immobilization, while Paget's bone disease was...   \n",
       "2   10048291  Unaccountable severe hypercalcemia in a patien...   \n",
       "3   10082597  METHODS: We report two cases of pseudoporphyri...   \n",
       "4   10082597  METHODS: We report two cases of pseudoporphyri...   \n",
       "\n",
       "              Adverse-Effect  Begin Effect Offset  End Effect Offset  \\\n",
       "0                ototoxicity                   43                 54   \n",
       "1  increased calcium-release                  960                985   \n",
       "2              hypercalcemia                   31                 44   \n",
       "3            pseudoporphyria                  620                635   \n",
       "4            pseudoporphyria                  620                635   \n",
       "\n",
       "                 Drug  Begin Drug Effect Offset  End Drug Effect Offset  \n",
       "0        azithromycin                        22                      34  \n",
       "1  dihydrotachysterol                       908                     926  \n",
       "2  dihydrotachysterol                        94                     112  \n",
       "3            naproxen                       646                     654  \n",
       "4           oxaprozin                       659                     668  "
      ]
     },
     "execution_count": 2,
     "metadata": {},
     "output_type": "execute_result"
    }
   ],
   "source": [
    "# Read DRUG-AE.rel file\n",
    "# Provides relations between drugs and adverse effects\n",
    "\n",
    "df_adverse_effect = pd.read_csv(\"DRUG-AE.rel\", header=None, delimiter=\"|\")\n",
    "df_adverse_effect.rename(columns = {0:\"PubMed-ID\", \n",
    "                                    1:\"Sentence\",\n",
    "                                    2:\"Adverse-Effect\", \n",
    "                                    3:\"Begin Effect Offset\", \n",
    "                                    4:\"End Effect Offset\", \n",
    "                                    5:\"Drug\", \n",
    "                                    6:\"Begin Drug Effect Offset\",\n",
    "                                    7:\"End Drug Effect Offset\"},inplace = True)\n",
    "\n",
    "df_adverse_effect.head()"
   ]
  },
  {
   "cell_type": "code",
   "execution_count": 3,
   "id": "99b213e2",
   "metadata": {},
   "outputs": [
    {
     "data": {
      "text/plain": [
       "(6821, 8)"
      ]
     },
     "execution_count": 3,
     "metadata": {},
     "output_type": "execute_result"
    }
   ],
   "source": [
    "df_adverse_effect.shape"
   ]
  },
  {
   "cell_type": "code",
   "execution_count": 4,
   "id": "51ce46e5",
   "metadata": {},
   "outputs": [
    {
     "name": "stdout",
     "output_type": "stream",
     "text": [
      "<class 'pandas.core.frame.DataFrame'>\n",
      "RangeIndex: 6821 entries, 0 to 6820\n",
      "Data columns (total 8 columns):\n",
      " #   Column                    Non-Null Count  Dtype \n",
      "---  ------                    --------------  ----- \n",
      " 0   PubMed-ID                 6821 non-null   int64 \n",
      " 1   Sentence                  6821 non-null   object\n",
      " 2   Adverse-Effect            6821 non-null   object\n",
      " 3   Begin Effect Offset       6821 non-null   int64 \n",
      " 4   End Effect Offset         6821 non-null   int64 \n",
      " 5   Drug                      6821 non-null   object\n",
      " 6   Begin Drug Effect Offset  6821 non-null   int64 \n",
      " 7   End Drug Effect Offset    6821 non-null   int64 \n",
      "dtypes: int64(5), object(3)\n",
      "memory usage: 426.4+ KB\n"
     ]
    }
   ],
   "source": [
    "df_adverse_effect.info()"
   ]
  },
  {
   "cell_type": "markdown",
   "id": "b3877d93",
   "metadata": {},
   "source": [
    "### Drugs and Dosages Data"
   ]
  },
  {
   "cell_type": "code",
   "execution_count": 5,
   "id": "d49cf722",
   "metadata": {
    "scrolled": true
   },
   "outputs": [
    {
     "data": {
      "text/html": [
       "<div>\n",
       "<style scoped>\n",
       "    .dataframe tbody tr th:only-of-type {\n",
       "        vertical-align: middle;\n",
       "    }\n",
       "\n",
       "    .dataframe tbody tr th {\n",
       "        vertical-align: top;\n",
       "    }\n",
       "\n",
       "    .dataframe thead th {\n",
       "        text-align: right;\n",
       "    }\n",
       "</style>\n",
       "<table border=\"1\" class=\"dataframe\">\n",
       "  <thead>\n",
       "    <tr style=\"text-align: right;\">\n",
       "      <th></th>\n",
       "      <th>PubMed-ID</th>\n",
       "      <th>Sentence</th>\n",
       "      <th>Dose</th>\n",
       "      <th>Begin Dose Offset</th>\n",
       "      <th>End Dose Offset</th>\n",
       "      <th>Drug</th>\n",
       "      <th>Begin Drug Dose Offset</th>\n",
       "      <th>End Drug Dose Offset</th>\n",
       "    </tr>\n",
       "  </thead>\n",
       "  <tbody>\n",
       "    <tr>\n",
       "      <th>0</th>\n",
       "      <td>10327035</td>\n",
       "      <td>An episode of subacute encephalopathy after th...</td>\n",
       "      <td>1500 mg/m2</td>\n",
       "      <td>230</td>\n",
       "      <td>240</td>\n",
       "      <td>methotrexate</td>\n",
       "      <td>216</td>\n",
       "      <td>228</td>\n",
       "    </tr>\n",
       "    <tr>\n",
       "      <th>1</th>\n",
       "      <td>10452772</td>\n",
       "      <td>She continued to receive regular insulin 4 tim...</td>\n",
       "      <td>4 times per day</td>\n",
       "      <td>1473</td>\n",
       "      <td>1488</td>\n",
       "      <td>insulin</td>\n",
       "      <td>1465</td>\n",
       "      <td>1472</td>\n",
       "    </tr>\n",
       "    <tr>\n",
       "      <th>2</th>\n",
       "      <td>10458196</td>\n",
       "      <td>A 5-month-old infant became lethargic and poor...</td>\n",
       "      <td>1 drop</td>\n",
       "      <td>522</td>\n",
       "      <td>528</td>\n",
       "      <td>brimonidine</td>\n",
       "      <td>532</td>\n",
       "      <td>543</td>\n",
       "    </tr>\n",
       "    <tr>\n",
       "      <th>3</th>\n",
       "      <td>10667036</td>\n",
       "      <td>The presented patient was treated with 200 mg ...</td>\n",
       "      <td>200 mg</td>\n",
       "      <td>389</td>\n",
       "      <td>395</td>\n",
       "      <td>TCA</td>\n",
       "      <td>396</td>\n",
       "      <td>399</td>\n",
       "    </tr>\n",
       "    <tr>\n",
       "      <th>4</th>\n",
       "      <td>10698143</td>\n",
       "      <td>Central nervous system manifestations of an ib...</td>\n",
       "      <td>overdose</td>\n",
       "      <td>64</td>\n",
       "      <td>72</td>\n",
       "      <td>ibuprofen</td>\n",
       "      <td>54</td>\n",
       "      <td>63</td>\n",
       "    </tr>\n",
       "  </tbody>\n",
       "</table>\n",
       "</div>"
      ],
      "text/plain": [
       "   PubMed-ID                                           Sentence  \\\n",
       "0   10327035  An episode of subacute encephalopathy after th...   \n",
       "1   10452772  She continued to receive regular insulin 4 tim...   \n",
       "2   10458196  A 5-month-old infant became lethargic and poor...   \n",
       "3   10667036  The presented patient was treated with 200 mg ...   \n",
       "4   10698143  Central nervous system manifestations of an ib...   \n",
       "\n",
       "              Dose  Begin Dose Offset  End Dose Offset          Drug  \\\n",
       "0       1500 mg/m2                230              240  methotrexate   \n",
       "1  4 times per day               1473             1488       insulin   \n",
       "2           1 drop                522              528   brimonidine   \n",
       "3           200 mg                389              395           TCA   \n",
       "4         overdose                 64               72     ibuprofen   \n",
       "\n",
       "   Begin Drug Dose Offset  End Drug Dose Offset  \n",
       "0                     216                   228  \n",
       "1                    1465                  1472  \n",
       "2                     532                   543  \n",
       "3                     396                   399  \n",
       "4                      54                    63  "
      ]
     },
     "execution_count": 5,
     "metadata": {},
     "output_type": "execute_result"
    }
   ],
   "source": [
    "# Read DRUG-DOSE.rel file\n",
    "# Provides relations between drugs and dosages\n",
    "\n",
    "df_dosage = pd.read_csv(\"DRUG-DOSE.rel\", header=None, delimiter=\"|\")\n",
    "df_dosage.rename(columns = {0:\"PubMed-ID\", \n",
    "                                    1:\"Sentence\",\n",
    "                                    2:\"Dose\", \n",
    "                                    3:\"Begin Dose Offset\", \n",
    "                                    4:\"End Dose Offset\", \n",
    "                                    5:\"Drug\", \n",
    "                                    6:\"Begin Drug Dose Offset\",\n",
    "                                    7:\"End Drug Dose Offset\"},inplace = True)\n",
    "\n",
    "df_dosage.head()"
   ]
  },
  {
   "cell_type": "code",
   "execution_count": 6,
   "id": "fbec6770",
   "metadata": {},
   "outputs": [
    {
     "data": {
      "text/plain": [
       "(279, 8)"
      ]
     },
     "execution_count": 6,
     "metadata": {},
     "output_type": "execute_result"
    }
   ],
   "source": [
    "df_dosage.shape"
   ]
  },
  {
   "cell_type": "code",
   "execution_count": 7,
   "id": "ef1ab6e6",
   "metadata": {},
   "outputs": [
    {
     "name": "stdout",
     "output_type": "stream",
     "text": [
      "<class 'pandas.core.frame.DataFrame'>\n",
      "RangeIndex: 279 entries, 0 to 278\n",
      "Data columns (total 8 columns):\n",
      " #   Column                  Non-Null Count  Dtype \n",
      "---  ------                  --------------  ----- \n",
      " 0   PubMed-ID               279 non-null    int64 \n",
      " 1   Sentence                279 non-null    object\n",
      " 2   Dose                    279 non-null    object\n",
      " 3   Begin Dose Offset       279 non-null    int64 \n",
      " 4   End Dose Offset         279 non-null    int64 \n",
      " 5   Drug                    279 non-null    object\n",
      " 6   Begin Drug Dose Offset  279 non-null    int64 \n",
      " 7   End Drug Dose Offset    279 non-null    int64 \n",
      "dtypes: int64(5), object(3)\n",
      "memory usage: 17.6+ KB\n"
     ]
    }
   ],
   "source": [
    "df_dosage.info()"
   ]
  },
  {
   "cell_type": "code",
   "execution_count": null,
   "id": "6e39c4b4",
   "metadata": {},
   "outputs": [],
   "source": []
  }
 ],
 "metadata": {
  "kernelspec": {
   "display_name": "Python 3 (ipykernel)",
   "language": "python",
   "name": "python3"
  },
  "language_info": {
   "codemirror_mode": {
    "name": "ipython",
    "version": 3
   },
   "file_extension": ".py",
   "mimetype": "text/x-python",
   "name": "python",
   "nbconvert_exporter": "python",
   "pygments_lexer": "ipython3",
   "version": "3.9.13"
  }
 },
 "nbformat": 4,
 "nbformat_minor": 5
}
